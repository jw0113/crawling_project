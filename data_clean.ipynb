{
 "cells": [
  {
   "cell_type": "code",
   "execution_count": 2,
   "metadata": {},
   "outputs": [],
   "source": [
    "#데이터 파일 정리\n",
    "import pandas as pd\n",
    "\n",
    "#파일 읽어오기\n",
    "data_file = pd.read_excel(\"C:\\\\Users\\\\jiwoo\\\\Desktop\\\\university\\\\crawling_data\\\\2018_data.xlsx\",encoding=\"utf-8\")\n"
   ]
  },
  {
   "cell_type": "code",
   "execution_count": 6,
   "metadata": {},
   "outputs": [],
   "source": [
    "#파일 내용에서 원하는 부분만 추출(해외여행 경험이 있다고 한 사람만 추출)\n",
    "#wanted_data = data_file[\"MON_EXP_OVER_ALL\"].str.contains('1')\n",
    "#save_data = data_file[wanted_data]\n",
    "#print(save_data)\n",
    "data_file[data_file[\"MON_EXP_DOM_TOUR\"]==1].to_excel(\"C:\\\\Users\\\\jiwoo\\\\Desktop\\\\university\\\\crawling_data\\\\2018_datas.xlsx\",encoding=\"utf-8\")\n"
   ]
  },
  {
   "cell_type": "code",
   "execution_count": 8,
   "metadata": {},
   "outputs": [
    {
     "name": "stdout",
     "output_type": "stream",
     "text": [
      "       Unnamed: 0  D_TRA1_CASE  D_TRA1_SMONTH  D_TRA1_SDAY  D_TRA1_EMONTH  \\\n",
      "0               0          2.0            7.0          6.0            7.0   \n",
      "1               1          2.0            5.0         19.0            5.0   \n",
      "2               2          2.0            5.0          8.0            5.0   \n",
      "3               3          2.0            5.0          4.0            5.0   \n",
      "4               4          2.0            9.0         22.0            9.0   \n",
      "...           ...          ...            ...          ...            ...   \n",
      "11843       24120          2.0           12.0         25.0           12.0   \n",
      "11844       24126          2.0            9.0          3.0            9.0   \n",
      "11845       24131          2.0            6.0          7.0            6.0   \n",
      "11846       24138          2.0            9.0         14.0            9.0   \n",
      "11847       24141          2.0            9.0         25.0            9.0   \n",
      "\n",
      "       D_TRA1_EDAY  A2_1  A3_1  A3_2  A3_3  ...  A7B_3  A7B_4  A7B_5  A7B_6  \\\n",
      "0              8.0     5   1.0   2.0   0.0  ...    3.0    0.0    0.0    0.0   \n",
      "1             19.0     2   1.0   2.0   0.0  ...    0.0    0.0    5.0    0.0   \n",
      "2              8.0    12   1.0   2.0   0.0  ...    3.0    0.0    0.0    0.0   \n",
      "3              6.0     5   1.0   2.0   0.0  ...    0.0    0.0    0.0    0.0   \n",
      "4             23.0     6   1.0   2.0   0.0  ...    3.0    0.0    0.0    0.0   \n",
      "...            ...   ...   ...   ...   ...  ...    ...    ...    ...    ...   \n",
      "11843         25.0     5   0.0   2.0   0.0  ...    3.0    0.0    0.0    0.0   \n",
      "11844          5.0     4   1.0   2.0   0.0  ...    0.0    0.0    0.0    0.0   \n",
      "11845          8.0    11   1.0   2.0   0.0  ...    3.0    0.0    0.0    0.0   \n",
      "11846         18.0     2   0.0   0.0   0.0  ...    0.0    0.0    0.0    0.0   \n",
      "11847         25.0     2   1.0   2.0   0.0  ...    0.0    0.0    0.0    0.0   \n",
      "\n",
      "       A7B_7          N_A10  A12  SEX  AGE  D_TRA1_1_TOWN1  \n",
      "0        0.0  360000.000000    4    2   62         39010.0  \n",
      "1        0.0   57200.000000    4    2   53         34360.0  \n",
      "2        0.0   90000.000000    4    1   76         31350.0  \n",
      "3        0.0   68500.000000    4    2   66         35020.0  \n",
      "4        0.0   42003.514938    4    2   65         36360.0  \n",
      "...      ...            ...  ...  ...  ...             ...  \n",
      "11843    0.0   30000.000000    4    2   16         39010.0  \n",
      "11844    0.0  127941.176471    4    2   26         39010.0  \n",
      "11845    0.0  304165.455562    4    2   52         21010.0  \n",
      "11846    0.0  176470.588235    1    1   24         11040.0  \n",
      "11847    0.0   94000.000000    4    2   38         39010.0  \n",
      "\n",
      "[11848 rows x 56 columns]\n"
     ]
    }
   ],
   "source": [
    "data_files = pd.read_excel(\"C:\\\\Users\\\\jiwoo\\\\Desktop\\\\university\\\\crawling_data\\\\2018_datas.xlsx\",encoding=\"utf-8\")\n",
    "data_files = data_files.fillna(0)\n",
    "print(data_files)"
   ]
  },
  {
   "cell_type": "code",
   "execution_count": null,
   "metadata": {},
   "outputs": [],
   "source": []
  }
 ],
 "metadata": {
  "kernelspec": {
   "display_name": "Python 3",
   "language": "python",
   "name": "python3"
  },
  "language_info": {
   "codemirror_mode": {
    "name": "ipython",
    "version": 3
   },
   "file_extension": ".py",
   "mimetype": "text/x-python",
   "name": "python",
   "nbconvert_exporter": "python",
   "pygments_lexer": "ipython3",
   "version": "3.7.4"
  }
 },
 "nbformat": 4,
 "nbformat_minor": 2
}
