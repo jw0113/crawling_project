{
 "cells": [
  {
   "cell_type": "code",
   "execution_count": 4,
   "metadata": {},
   "outputs": [],
   "source": [
    "#데이터 파일 정리\n",
    "import pandas as pd\n",
    "\n",
    "#파일 읽어오기\n",
    "data_file = pd.read_excel(\"C:\\\\Users\\\\jiwoo\\\\Desktop\\\\university\\\\crawling_data\\\\2018_data.xlsx\",encoding=\"utf-8\")\n"
   ]
  },
  {
   "cell_type": "code",
   "execution_count": 6,
   "metadata": {},
   "outputs": [],
   "source": [
    "#파일 내용에서 원하는 부분만 추출(해외여행 경험이 있다고 한 사람만 추출)\n",
    "#wanted_data = data_file[\"MON_EXP_OVER_ALL\"].str.contains('1')\n",
    "#save_data = data_file[wanted_data]\n",
    "#print(save_data)\n",
    "data_file[data_file[\"MON_EXP_DOM_TOUR\"]==1].to_excel(\"C:\\\\Users\\\\jiwoo\\\\Desktop\\\\university\\\\crawling_data\\\\2018_datas.xlsx\",encoding=\"utf-8\")\n"
   ]
  }
 ],
 "metadata": {
  "kernelspec": {
   "display_name": "Python 3",
   "language": "python",
   "name": "python3"
  },
  "language_info": {
   "codemirror_mode": {
    "name": "ipython",
    "version": 3
   },
   "file_extension": ".py",
   "mimetype": "text/x-python",
   "name": "python",
   "nbconvert_exporter": "python",
   "pygments_lexer": "ipython3",
   "version": "3.7.4"
  }
 },
 "nbformat": 4,
 "nbformat_minor": 2
}
